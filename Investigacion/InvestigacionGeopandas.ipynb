{
 "cells": [
  {
   "cell_type": "markdown",
   "metadata": {},
   "source": [
    "## Geopandas\n",
    "\n",
    "GeoPandas es un proyecto open-source con la implementación geoespacial de la librería de Python llamada Pandas, esta librería está enfocada en el cálculo masivo bajo el enfoque de \"Big Data\". GeoPandas permite el uso de los tipos de datos de Pandas para las operaciones espaciales de tipos geométricos de SIG (puntos, líneas y polígonos). La librería GeoPandas es la combinación de un set de datos geoespaciales en Python como Shapely, Fiona junto con los paquetes más conocidos y robustos como Numpy y Matplotlib.\n",
    "Para usuarios normales de Sistemas de Información Geográfica (SIG), la librería GeoPandas genera un nuevo panorama en la manera de interacción con datos espaciales debido al uso de una variedad de filtros, listados, indexados y transformación de datos en menos tiempo y con menos requerimientos computacionales. Este tutorial muestra parte del procedimiento de manejo de datos espaciales con GeoPandas junto con opciones de representación para la generación de planos.\n",
    "En este modelo se utilizará la librería geopandas (abreviada como gpd) para leer el archivo vectorial “fire_boundaries.shp” que contiene los contornos de polígonos determinados por una persona de áreas incendiadas. \n",
    "### Shapefiles: \n",
    "Formato de almacenamiento donde se guarda la localización de los elementos geográficos y los atributos asociados a ellos."
   ]
  },
  {
   "cell_type": "code",
   "execution_count": 1,
   "metadata": {},
   "outputs": [
    {
     "name": "stderr",
     "output_type": "stream",
     "text": [
      "/env/lib/python3.6/site-packages/geopandas/_compat.py:110: UserWarning: The Shapely GEOS version (3.7.2-CAPI-1.11.0 ) is incompatible with the GEOS version PyGEOS was compiled with (3.9.0-CAPI-1.16.2). Conversions between both will be slow.\n",
      "  shapely_geos_version, geos_capi_version_string\n"
     ]
    },
    {
     "name": "stdout",
     "output_type": "stream",
     "text": [
      "Número de objetos en el geodataframe: 976\n"
     ]
    },
    {
     "data": {
      "text/html": [
       "<div>\n",
       "<style scoped>\n",
       "    .dataframe tbody tr th:only-of-type {\n",
       "        vertical-align: middle;\n",
       "    }\n",
       "\n",
       "    .dataframe tbody tr th {\n",
       "        vertical-align: top;\n",
       "    }\n",
       "\n",
       "    .dataframe thead th {\n",
       "        text-align: right;\n",
       "    }\n",
       "</style>\n",
       "<table border=\"1\" class=\"dataframe\">\n",
       "  <thead>\n",
       "    <tr style=\"text-align: right;\">\n",
       "      <th></th>\n",
       "      <th>0</th>\n",
       "      <th>1</th>\n",
       "      <th>2</th>\n",
       "      <th>3</th>\n",
       "      <th>4</th>\n",
       "    </tr>\n",
       "  </thead>\n",
       "  <tbody>\n",
       "    <tr>\n",
       "      <th>Source</th>\n",
       "      <td>Linescan</td>\n",
       "      <td>Linescan</td>\n",
       "      <td>Linescan</td>\n",
       "      <td>Linescan</td>\n",
       "      <td>Linescan</td>\n",
       "    </tr>\n",
       "    <tr>\n",
       "      <th>SourceName</th>\n",
       "      <td>aberfeldy west 200 p1_201901260955_mga94_55.jpg</td>\n",
       "      <td>aberfeldy west 200 p1_201901260955_mga94_55.jpg</td>\n",
       "      <td>aberfeldy west 200 p1_201901260955_mga94_55.jpg</td>\n",
       "      <td>aberfeldy west 214 p1_201901261750_mga94_55.jpg</td>\n",
       "      <td>aberfeldy west 214 p1_201901261750_mga94_55.jpg</td>\n",
       "    </tr>\n",
       "    <tr>\n",
       "      <th>Type</th>\n",
       "      <td>Initial ignition</td>\n",
       "      <td>Initial ignition</td>\n",
       "      <td>Initial ignition</td>\n",
       "      <td>Spot</td>\n",
       "      <td>Main run</td>\n",
       "    </tr>\n",
       "    <tr>\n",
       "      <th>dtString</th>\n",
       "      <td>2019/01/26 09:55:00.000</td>\n",
       "      <td>2019/01/26 09:55:00.000</td>\n",
       "      <td>2019/01/26 09:55:00.000</td>\n",
       "      <td>2019/01/26 17:50:00.000</td>\n",
       "      <td>2019/01/26 17:50:00.000</td>\n",
       "    </tr>\n",
       "    <tr>\n",
       "      <th>Comments</th>\n",
       "      <td>originally Latrobe 87 - Jericho - Jim Track</td>\n",
       "      <td>originally Latrobe 86 - Jericho - Thomson - Jo...</td>\n",
       "      <td>originally Latrobe 85 - Jericho - Cream Can Hill</td>\n",
       "      <td>originally Latrobe 87 - Jericho - Jim Track</td>\n",
       "      <td>originally Latrobe 87 - Jericho - Jim Track</td>\n",
       "    </tr>\n",
       "    <tr>\n",
       "      <th>dtUTC</th>\n",
       "      <td>2019-01-25 22:55:00</td>\n",
       "      <td>2019-01-25 22:55:00</td>\n",
       "      <td>2019-01-25 22:55:00</td>\n",
       "      <td>2019-01-26 06:50:00</td>\n",
       "      <td>2019-01-26 06:50:00</td>\n",
       "    </tr>\n",
       "    <tr>\n",
       "      <th>dtLocal</th>\n",
       "      <td>2019-01-26 09:55:00</td>\n",
       "      <td>2019-01-26 09:55:00</td>\n",
       "      <td>2019-01-26 09:55:00</td>\n",
       "      <td>2019-01-26 17:50:00</td>\n",
       "      <td>2019-01-26 17:50:00</td>\n",
       "    </tr>\n",
       "    <tr>\n",
       "      <th>ID</th>\n",
       "      <td>0</td>\n",
       "      <td>1</td>\n",
       "      <td>2</td>\n",
       "      <td>3</td>\n",
       "      <td>4</td>\n",
       "    </tr>\n",
       "    <tr>\n",
       "      <th>event</th>\n",
       "      <td>Latrobe86</td>\n",
       "      <td>Latrobe86</td>\n",
       "      <td>Latrobe86</td>\n",
       "      <td>Latrobe86</td>\n",
       "      <td>Latrobe86</td>\n",
       "    </tr>\n",
       "    <tr>\n",
       "      <th>geometry</th>\n",
       "      <td>POLYGON ((431455.6047864075 5829806.836519156,...</td>\n",
       "      <td>POLYGON ((433874.4491466696 5827986.798174933,...</td>\n",
       "      <td>POLYGON ((430459.9135101112 5831285.491971598,...</td>\n",
       "      <td>POLYGON ((431937.3755649604 5829943.370969374,...</td>\n",
       "      <td>POLYGON ((431541.6507835893 5829804.025387563,...</td>\n",
       "    </tr>\n",
       "  </tbody>\n",
       "</table>\n",
       "</div>"
      ],
      "text/plain": [
       "                                                            0  \\\n",
       "Source                                               Linescan   \n",
       "SourceName    aberfeldy west 200 p1_201901260955_mga94_55.jpg   \n",
       "Type                                         Initial ignition   \n",
       "dtString                              2019/01/26 09:55:00.000   \n",
       "Comments          originally Latrobe 87 - Jericho - Jim Track   \n",
       "dtUTC                                     2019-01-25 22:55:00   \n",
       "dtLocal                                   2019-01-26 09:55:00   \n",
       "ID                                                          0   \n",
       "event                                               Latrobe86   \n",
       "geometry    POLYGON ((431455.6047864075 5829806.836519156,...   \n",
       "\n",
       "                                                            1  \\\n",
       "Source                                               Linescan   \n",
       "SourceName    aberfeldy west 200 p1_201901260955_mga94_55.jpg   \n",
       "Type                                         Initial ignition   \n",
       "dtString                              2019/01/26 09:55:00.000   \n",
       "Comments    originally Latrobe 86 - Jericho - Thomson - Jo...   \n",
       "dtUTC                                     2019-01-25 22:55:00   \n",
       "dtLocal                                   2019-01-26 09:55:00   \n",
       "ID                                                          1   \n",
       "event                                               Latrobe86   \n",
       "geometry    POLYGON ((433874.4491466696 5827986.798174933,...   \n",
       "\n",
       "                                                            2  \\\n",
       "Source                                               Linescan   \n",
       "SourceName    aberfeldy west 200 p1_201901260955_mga94_55.jpg   \n",
       "Type                                         Initial ignition   \n",
       "dtString                              2019/01/26 09:55:00.000   \n",
       "Comments     originally Latrobe 85 - Jericho - Cream Can Hill   \n",
       "dtUTC                                     2019-01-25 22:55:00   \n",
       "dtLocal                                   2019-01-26 09:55:00   \n",
       "ID                                                          2   \n",
       "event                                               Latrobe86   \n",
       "geometry    POLYGON ((430459.9135101112 5831285.491971598,...   \n",
       "\n",
       "                                                            3  \\\n",
       "Source                                               Linescan   \n",
       "SourceName    aberfeldy west 214 p1_201901261750_mga94_55.jpg   \n",
       "Type                                                     Spot   \n",
       "dtString                              2019/01/26 17:50:00.000   \n",
       "Comments          originally Latrobe 87 - Jericho - Jim Track   \n",
       "dtUTC                                     2019-01-26 06:50:00   \n",
       "dtLocal                                   2019-01-26 17:50:00   \n",
       "ID                                                          3   \n",
       "event                                               Latrobe86   \n",
       "geometry    POLYGON ((431937.3755649604 5829943.370969374,...   \n",
       "\n",
       "                                                            4  \n",
       "Source                                               Linescan  \n",
       "SourceName    aberfeldy west 214 p1_201901261750_mga94_55.jpg  \n",
       "Type                                                 Main run  \n",
       "dtString                              2019/01/26 17:50:00.000  \n",
       "Comments          originally Latrobe 87 - Jericho - Jim Track  \n",
       "dtUTC                                     2019-01-26 06:50:00  \n",
       "dtLocal                                   2019-01-26 17:50:00  \n",
       "ID                                                          4  \n",
       "event                                               Latrobe86  \n",
       "geometry    POLYGON ((431541.6507835893 5829804.025387563,...  "
      ]
     },
     "execution_count": 1,
     "metadata": {},
     "output_type": "execute_result"
    }
   ],
   "source": [
    "#Ejemplo de codigo utilizado\n",
    "\n",
    "import geopandas as gpd\n",
    "vector_file = 'resources/fire_boundaries.shp'\n",
    "gdf = gpd.read_file(vector_file)\n",
    "print('Número de objetos en el geodataframe: ' + str(len(gdf)))\n",
    "gdf.head().T"
   ]
  },
  {
   "cell_type": "markdown",
   "metadata": {},
   "source": [
    "En el codigo ejecutado, podemos observar los objetos contenidos en un geodataframe. Posteriormente representaremos este geodataframe en un mapa."
   ]
  },
  {
   "cell_type": "code",
   "execution_count": 4,
   "metadata": {},
   "outputs": [
    {
     "data": {
      "application/vnd.jupyter.widget-view+json": {
       "model_id": "2ce809cce08e47d5a90e5b4dfaeb1455",
       "version_major": 2,
       "version_minor": 0
      },
      "text/plain": [
       "Label(value='')"
      ]
     },
     "metadata": {},
     "output_type": "display_data"
    },
    {
     "data": {
      "application/vnd.jupyter.widget-view+json": {
       "model_id": "7355c9657ca147549db26b1c1e1fae31",
       "version_major": 2,
       "version_minor": 0
      },
      "text/plain": [
       "Map(center=[-37.61040977368337, 146.4838196608676], controls=(ZoomControl(options=['position', 'zoom_in_text',…"
      ]
     },
     "metadata": {},
     "output_type": "display_data"
    }
   ],
   "source": [
    "import sys\n",
    "sys.path.append(\"../scripts\")\n",
    "from dea_plotting import map_shapefile\n",
    "attribute_col = 'SourceName'\n",
    "map_shapefile(gdf, attribute=attribute_col, fillOpacity=0.2, color=\"yellow\", fillColor=\"red\", default_zoom=8)"
   ]
  }
 ],
 "metadata": {
  "kernelspec": {
   "display_name": "Python 3",
   "language": "python",
   "name": "python3"
  },
  "language_info": {
   "codemirror_mode": {
    "name": "ipython",
    "version": 3
   },
   "file_extension": ".py",
   "mimetype": "text/x-python",
   "name": "python",
   "nbconvert_exporter": "python",
   "pygments_lexer": "ipython3",
   "version": "3.6.9"
  }
 },
 "nbformat": 4,
 "nbformat_minor": 4
}
