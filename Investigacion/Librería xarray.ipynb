{
  "nbformat": 4,
  "nbformat_minor": 0,
  "metadata": {
    "colab": {
      "name": "Te damos la bienvenida a Colaboratory",
      "provenance": [],
      "collapsed_sections": [],
      "toc_visible": true
    },
    "kernelspec": {
      "display_name": "Python 3",
      "name": "python3"
    }
  },
  "cells": [
    {
      "cell_type": "markdown",
      "metadata": {
        "id": "FLuMi7o1S5Ab"
      },
      "source": [
        "**Xarray**\n",
        "\n",
        "xarray es un proyecto de código abierto y una librería de Python que permite trabajar con matrices multidimensionales con etiquetas (labels) de manera simple y concisa.\n",
        "\n",
        "La naturaleza n-dimensional de las estructuras de datos de xarray lo hace adecuado para tratar datos científicos multidimensionales y su uso de nombres de dimensión en lugar de etiquetas de eje (dim= “tiempo” en lugar de // axis = 0) hace que estas matrices sean mucho más manejables que el ndarray numpy en bruto; con xarray no es necesario realizar un seguimiento del orden de las dimensiones de los arrays o insertar dimensiones ficticias (por ejemplo, np.newaxis) para alinear los arrays.\n",
        "\n",
        "*El beneficio inmediato de xarray es la reducción de código y poder entender qué hiciste con este codigo cuando lo agarres tiempo después*\n",
        "\n",
        "**ESTRUCTURAS DE DATOS PRINCIPALES**\n",
        "\n",
        "Xarray tiene dos estructuras de datos centrales que se basan y amplían las fortalezas centrales de NumPy y pandas.\n",
        "\n",
        "**DataArray** *es nuestra implementación de una matriz N-dimensional etiquetada. Es una generalización N-dimensiones de una serie de pandas.*\n",
        "\n",
        "**Dataset** *es una base de datos de matriz multidimensional en memoria. Es un contenedor similar a un dict de objetos DataArray alineados a lo largo de cualquier número de dimensiones compartidas y tiene un propósito similar en la matriz de datos de los pandas.DataFrame*\n",
        "\n",
        "El poder de un Dataset sobre un simple diccionario es que además de extraer matrices por nombre, es posible seleccionar o combinar datos a lo largo de una dimensión en todas las matrices simultáneamente. Al igual que un DataFrames, los conjuntos de datos facilitan las operaciones de matriz con datos heterogéneos: la diferencia es que las matrices de un Dataset no solo pueden tener diferentes tipos de datos, sino que también pueden tener diferentes números de dimensiones\n",
        "\n",
        "Como dijimos anteriormente xarray se basa y se integra con NumPy y pandas, dos ventajas adicionales serían:\n",
        "\n",
        "\n",
        "*   Las interfaces orientadas al usuario pretenden ser versiones más explícitas de las que se encuentran en NumPy / pandas\n",
        "*   Debe ser más fácil ingresar y sacar sus datos\n",
        "\n",
        "\n"
      ]
    },
    {
      "cell_type": "code",
      "metadata": {
        "id": "PDeGO2GIT04e"
      },
      "source": [
        "import numpy as np               '' 'Para instalar xarray es necesario'' '\n",
        "import pandas as pd              '' 'tener instaladas las dependencias numpy y pandas.'' '\n",
        "import xarray as xr              '' 'Una vez instalados se importan'' '"
      ],
      "execution_count": null,
      "outputs": []
    },
    {
      "cell_type": "markdown",
      "metadata": {
        "id": "skgeCxhmUfL0"
      },
      "source": [
        "**Se estarán preguntando, porque pandas no es suficiente?** \n",
        "\n",
        "Si bien pandas es una biblioteca fantástica para el análisis de datos etiquetados de baja dimensión (filas y columnas) puede pasar que queramos utilizar matrices de dimensiones superiores (ndim> 2) por ejemplo, las imágenes de una película se podrían representar como una matriz de cuatro dimensiones: tiempo, fila, columna y color.\n",
        "\n",
        "**DIFERENCIA ENTRE ESTRUCTURA DE DATOS DE XARRAY Y LAS QUE HAY EN PANDAS**\n",
        "\n",
        "La principal diferencia de DataArray sobre las matrices etiquetadas en pandas es que las dimensiones pueden tener nombres (“tiempo”, “latitud”, etc…) Los nombres son mucho más fáciles de seguir que números y ejes por ejemplo. Xarray utiliza nombres de dimensión para la indexación, agregación y difusión de las mismas\n"
      ]
    },
    {
      "cell_type": "markdown",
      "metadata": {
        "id": "sD1ogG8AUmXt"
      },
      "source": [
        "\n",
        "\n",
        "---\n",
        "\n",
        "\n",
        "\n",
        "---\n",
        "\n"
      ]
    },
    {
      "cell_type": "markdown",
      "metadata": {
        "id": "0T6eA9WJUtCm"
      },
      "source": [
        "Propiedades de un DataArray (xarray.DataArray)\n",
        "\n",
        "\n",
        "\n",
        "*   **Valores**: un numpy.ndarray que contiene los valores de la matriz\n",
        "*   **dims**: nombre de la dimensión para cada eje (x,y,z, etc..)\n",
        "*   **coords**: un contenedor de arreglos (coordenadas) tipo dict que etiquetan cada punto (por ejemplo arreglos unidimensionales de numeros, objetos de fecha y hora o cadenas)\n",
        "*   **attrs**: metadatos arbitrarios o atributos\n",
        "\n",
        "*Xarray utiliza dims y coords para habilitar sus operaciones principales*\n"
      ]
    },
    {
      "cell_type": "markdown",
      "metadata": {
        "id": "QbdyplhGVM81"
      },
      "source": [
        "**CREANDO UN DataArray**\n",
        "\n",
        "*El constructor DataArray toma*:\n",
        "\n",
        "\n",
        "*   **data**: una matriz de valores multidimensionales (por ejemplo un ndarray numpy, Series, DataFrame o panel)\n",
        "*   **coords**: una lista o diccionario de coordenadas\n",
        "*   **dims**: una lista de nombres de dimensiones\n",
        "*   **attrs**: un diccionario de atributos para agregar a la lista\n",
        "*   **name**: un nombre que se le da a la instancia\n",
        "\n",
        "\n",
        "\n",
        "\n",
        "\n",
        "\n",
        "\n",
        "\n",
        "\n"
      ]
    },
    {
      "cell_type": "code",
      "metadata": {
        "id": "XRTEjtL_Vmuy"
      },
      "source": [
        "'' 'Construccion mediante numpy array o lista y metadatos'' '\n",
        "\n",
        "data = xr.DataArray (np.random.randn(2, 3)),\n",
        "                    dims= ('x', 'y'),\n",
        "                    coords={'x' : [10,20]})\n",
        "data"
      ],
      "execution_count": null,
      "outputs": []
    },
    {
      "cell_type": "markdown",
      "metadata": {
        "id": "db_sMYghWWS1"
      },
      "source": [
        "**Propiedades de un DataSet (xarray.DataSet)**\n",
        "\n",
        "Es el equivalente multidimensional de un DataFrame de xarray. Es un contenedor de tipo dict de matrices etiquetadas (obj DataArray) con dimensiones alineadas. Esta diseñado como una representación en memoria del modelo de datos del formato de archivo netCDF\n",
        "\n",
        "Poseen 4 propiedades:\n",
        "\n",
        "\n",
        "\n",
        "*   **dims**: una asignación de diccionario de nombres de dimensiones a la longitud fija de cada dimensión (por ejemplo. (“x” :6, “y” : 6, “tiempo”: 8))\n",
        "\n",
        "*   **data_vars**: un contenedor similar a dict de DataArrays correspondiente a las variables\n",
        "*   **coords**: otro contenedor similar a un dict de DataArrays destinado a etiquetar puntos utilizados en data_vars (por ejemplo, matrices de números, objetos etc…)\n",
        "\n",
        "*   **attrs**: atributos (OrderedDict para contener metadatos arbitrarios)\n",
        "\n",
        "\n",
        "\n",
        " \n",
        "\n",
        "\n",
        "\n",
        "\n"
      ]
    },
    {
      "cell_type": "markdown",
      "metadata": {
        "id": "2hdZhFczWuh_"
      },
      "source": [
        "**CREANDO UN DataSet**\n",
        "\n",
        "Para hacer un DataSet desde cero, proporcione diccionarios para cualquier variable (data_vars), coordenadas (coords) y atributos (attrs)\n",
        "\n",
        "\n",
        "*   **data_vars**: debe ser un diccionario con cada clave como el nombre de la variable\n",
        "\n",
        "*   **coords**: debe ser un diccionario de la misma forma que data_vars\n",
        "*   **attrs**: debe ser un diccionario\n",
        "\n"
      ]
    },
    {
      "cell_type": "code",
      "metadata": {
        "id": "IU7U4wcaXBvX"
      },
      "source": [
        "ds = xr.Dataset({'datos' : data, 'prueba_pandas': prueba_pd})\n",
        "ds\n",
        "ds['datos']"
      ],
      "execution_count": null,
      "outputs": []
    },
    {
      "cell_type": "markdown",
      "metadata": {
        "id": "kLYan5VRXVm5"
      },
      "source": [
        "**CONCLUSIÓN**\n",
        "\n",
        "xarray es una librería popular para el uso del análisis de datos de las geociencias por la naturaleza multidimensional de los datos en los que se trabajan (dimensiones espaciales, datos como precipitaciones, temperaturas, dimensiones temporales…).\n",
        "\n",
        "Bajo estas condiciones, xarray proporciona una interfaz para el manejo de este tipo de datos donde prima la claridad y la concisión del código, si se le dedica el tiempo necesario a aprender una manera correcta de trabajar con la librería. Dado que podemos considerar xarray como una extensión de numpy y pandas, las dos librerías base de ciencia de datos en Python, aquellos usuarios que ya tengan un manejo de estas encontrarán la curva de aprendizaje mucho más suave.\n"
      ]
    }
  ]
}